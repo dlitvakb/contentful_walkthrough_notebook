{
 "cells": [
  {
   "cell_type": "markdown",
   "metadata": {
    "toc": true
   },
   "source": [
    "<h1>Table of Contents<span class=\"tocSkip\"></span></h1>\n",
    "<div class=\"toc\"><ul class=\"toc-item\"><li><span><a href=\"#Contentful-Walkthrough\" data-toc-modified-id=\"Contentful-Walkthrough-1\">Contentful Walkthrough</a></span><ul class=\"toc-item\"><li><ul class=\"toc-item\"><li><span><a href=\"#What-is-Contentful?\" data-toc-modified-id=\"What-is-Contentful?-1.0.1\">What is Contentful?</a></span></li><li><span><a href=\"#Step-1:-Installation\" data-toc-modified-id=\"Step-1:-Installation-1.0.2\">Step 1: Installation</a></span></li><li><span><a href=\"#Step-2:-Creating-the-Contentful-client\" data-toc-modified-id=\"Step-2:-Creating-the-Contentful-client-1.0.3\">Step 2: Creating the Contentful client</a></span></li><li><span><a href=\"#Step-3:-Getting-your-first-entry\" data-toc-modified-id=\"Step-3:-Getting-your-first-entry-1.0.4\">Step 3: Getting your first entry</a></span></li><li><span><a href=\"#Step-4:-Creating-a-basic-frontend-for-our-content\" data-toc-modified-id=\"Step-4:-Creating-a-basic-frontend-for-our-content-1.0.5\">Step 4: Creating a basic frontend for our content</a></span><ul class=\"toc-item\"><li><span><a href=\"#Step-4.1:-Setting-up-the-Markdown-Engine\" data-toc-modified-id=\"Step-4.1:-Setting-up-the-Markdown-Engine-1.0.5.1\">Step 4.1: Setting up the Markdown Engine</a></span></li><li><span><a href=\"#Step-4.2:-Setting-up-the-HTML-Template-Engine\" data-toc-modified-id=\"Step-4.2:-Setting-up-the-HTML-Template-Engine-1.0.5.2\">Step 4.2: Setting up the HTML Template Engine</a></span></li><li><span><a href=\"#Step-4.3:-Displaying-the-result\" data-toc-modified-id=\"Step-4.3:-Displaying-the-result-1.0.5.3\">Step 4.3: Displaying the result</a></span></li></ul></li><li><span><a href=\"#Step-5:-Fetch-a-collection-of-entries-with-a-specific-content-type\" data-toc-modified-id=\"Step-5:-Fetch-a-collection-of-entries-with-a-specific-content-type-1.0.6\">Step 5: Fetch a collection of entries with a specific content type</a></span></li><li><span><a href=\"#Step-6:-Use-matplotlib-to-render-scatter-plot\" data-toc-modified-id=\"Step-6:-Use-matplotlib-to-render-scatter-plot-1.0.7\">Step 6: Use matplotlib to render scatter plot</a></span></li><li><span><a href=\"#Step-7:-Understanding-the-result-set\" data-toc-modified-id=\"Step-7:-Understanding-the-result-set-1.0.8\">Step 7: Understanding the result set</a></span></li><li><span><a href=\"#Done!-🎉🎊👏\" data-toc-modified-id=\"Done!-🎉🎊👏-1.0.9\">Done! 🎉🎊👏</a></span></li><li><span><a href=\"#What's-next?\" data-toc-modified-id=\"What's-next?-1.0.10\">What's next?</a></span></li></ul></li></ul></li></ul></div>"
   ]
  },
  {
   "cell_type": "markdown",
   "metadata": {},
   "source": [
    "# Contentful Walkthrough\n",
    "\n",
    "**A step by step tutorial on using Contentful in Python**\n",
    "\n",
    "### What is Contentful?\n",
    "[Contentful](https://www.contentful.com) provides a content infrastructure for digital teams to power content in websites, apps, and devices. Unlike a CMS, Contentful was built to integrate with the modern software stack. It offers a central hub for structured content, powerful management and delivery APIs, and a customizable web app that enable developers and content creators to ship digital products faster.\n",
    "\n",
    "\n",
    "### Step 1: Installation\n",
    "\n",
    "```bash\n",
    "pip install contentful\n",
    "```"
   ]
  },
  {
   "cell_type": "markdown",
   "metadata": {
    "deletable": false,
    "editable": false
   },
   "source": [
    "### Step 2: Creating the Contentful client\n",
    "\n",
    "Once you have the SDK installed, you can start fetching content right away. In this tutorial we'll use a publicly available demonstration space, which has some content already set up for us to explore in a few different ways."
   ]
  },
  {
   "cell_type": "code",
   "execution_count": 26,
   "metadata": {},
   "outputs": [],
   "source": [
    "import contentful\n",
    "\n",
    "client = contentful.Client('97g0w6chleyq', '00d278937d601fe20dfc8d977c6d86466defc03807b03ea46b694592bd7ee630')"
   ]
  },
  {
   "cell_type": "markdown",
   "metadata": {
    "deletable": false,
    "editable": false
   },
   "source": [
    "### Step 3: Getting your first entry\n",
    "\n",
    "With the client instantiated, now you can consume your first entry. In this case, we'll fetch `42fwUuhc5qQeEiuYsO2kig`, which is the entry for *John Doe*. And display some of it's properties."
   ]
  },
  {
   "cell_type": "code",
   "execution_count": 27,
   "metadata": {},
   "outputs": [
    {
     "name": "stdout",
     "output_type": "stream",
     "text": [
      "Name: John Doe\n",
      "Date of Birth: 1990-02-01 00:00:00+01:00\n",
      "Bio: John is a creative mind, he likes showing off his crazy new designs from his atellier.\n",
      "\n",
      "You can see more of his work at [CreativeJohn's](https://creativejohns.com).\n",
      "\n",
      "Or follow him at [@creativejohn](https://twitter.com/creativejohn).\n"
     ]
    }
   ],
   "source": [
    "john = client.entry('42fwUuhc5qQeEiuYsO2kig')\n",
    "\n",
    "print(\"Name: {0}\".format(john.name))\n",
    "print(\"Date of Birth: {0}\".format(john.date_of_birth))\n",
    "print(\"Bio: {0}\".format(john.bio))"
   ]
  },
  {
   "cell_type": "markdown",
   "metadata": {},
   "source": [
    "This already starts to look promising, but as you can notice, the data is in Markdown, and not very well formatted. Also, our data contains a picture of our fictional character, which we'd like to display. Therefore we're going to get a little bit fancier and create a very simple frontend for it.\n",
    "\n",
    "### Step 4: Creating a basic frontend for our content\n",
    "\n",
    "In this case we want to populate a template with the contents of the *John Doe* entry. For doing this, we'll use the [Jinja2](https://jinja.pocoo.org) templating library, for template rendering, and the [CommonMark](https://commonmark.org) library for rendering Markdown."
   ]
  },
  {
   "cell_type": "markdown",
   "metadata": {},
   "source": [
    "#### Step 4.1: Setting up the Markdown Engine\n",
    "*Code will be collapsed - you can toggle collapse if you want to learn about it*"
   ]
  },
  {
   "cell_type": "code",
   "execution_count": 30,
   "metadata": {
    "hide_input": true
   },
   "outputs": [],
   "source": [
    "import CommonMark\n",
    "\n",
    "\n",
    "def markdown(text):\n",
    "    parser = CommonMark.Parser()\n",
    "    ast = parser.parse(text)\n",
    "    \n",
    "    renderer = CommonMark.HtmlRenderer()\n",
    "    return renderer.render(ast)"
   ]
  },
  {
   "cell_type": "markdown",
   "metadata": {},
   "source": [
    "#### Step 4.2: Setting up the HTML Template Engine\n",
    "*Code will be collapsed - you can toggle collapse if you want to learn about it*"
   ]
  },
  {
   "cell_type": "code",
   "execution_count": 31,
   "metadata": {
    "hide_input": true
   },
   "outputs": [],
   "source": [
    "from IPython import display\n",
    "from IPython.core.magic import register_cell_magic, Magics, magics_class, cell_magic\n",
    "import jinja2\n",
    " \n",
    "@magics_class\n",
    "class JinjaMagics(Magics):\n",
    "    '''Magics class containing the jinja2 magic and state'''\n",
    "     \n",
    "    def __init__(self, shell):\n",
    "        super(JinjaMagics, self).__init__(shell)\n",
    "         \n",
    "        # create a jinja2 environment to use for rendering\n",
    "        # this can be modified for desired effects (ie: using different variable syntax)\n",
    "        self.env = jinja2.Environment(loader=jinja2.FileSystemLoader('.'))\n",
    "        self.env.filters['markdown'] = markdown\n",
    "         \n",
    "        # possible output types\n",
    "        self.display_functions = dict(html=display.HTML, \n",
    "                                      latex=display.Latex,\n",
    "                                      json=display.JSON,\n",
    "                                      pretty=display.Pretty,\n",
    "                                      display=display.display)\n",
    " \n",
    "     \n",
    "    @cell_magic\n",
    "    def jinja(self, line, cell):\n",
    "        '''\n",
    "        jinja2 cell magic function.  Contents of cell are rendered by jinja2, and \n",
    "        the line can be used to specify output type.\n",
    " \n",
    "        ie: \"%%jinja html\" will return the rendered cell wrapped in an HTML object.\n",
    "        '''\n",
    "        f = self.display_functions.get(line.lower().strip(), display.display)\n",
    "         \n",
    "        tmp = self.env.from_string(cell)\n",
    "        rend = tmp.render(dict((k,v) for (k,v) in self.shell.user_ns.items() \n",
    "                                        if not k.startswith('_') and k not in self.shell.user_ns_hidden))\n",
    "         \n",
    "        return f(rend)\n",
    "         \n",
    "     \n",
    "ip = get_ipython()\n",
    "ip.register_magics(JinjaMagics)"
   ]
  },
  {
   "cell_type": "markdown",
   "metadata": {},
   "source": [
    "#### Step 4.3: Displaying the result"
   ]
  },
  {
   "cell_type": "code",
   "execution_count": 34,
   "metadata": {},
   "outputs": [
    {
     "data": {
      "text/html": [
       "<!doctype html>\n",
       "<html>\n",
       "  <body>\n",
       "    <div class='person'>\n",
       "      <img src='https://images.contentful.com/97g0w6chleyq/2m47RWoQJGYUq0UG666Ui8/0483848ddb10fbdb309c39024d8b21e0/N.Gogol_by_F.Moller__28early_1840s_2C_Ivanovo_29_detail.jpg?w=80' alt='John Doe' />\n",
       "      <h2>John Doe</h2>\n",
       "      <p><small>Born on <i>1990-02-01</i></small></p>\n",
       "\n",
       "      <h3>Bio:</h3>\n",
       "      <p>John is a creative mind, he likes showing off his crazy new designs from his atellier.</p>\n",
       "<p>You can see more of his work at <a href=\"https://creativejohns.com\">CreativeJohn's</a>.</p>\n",
       "<p>Or follow him at <a href=\"https://twitter.com/creativejohn\">@creativejohn</a>.</p>\n",
       "\n",
       "    </div>\n",
       "  </body>\n",
       "</html>"
      ],
      "text/plain": [
       "<IPython.core.display.HTML object>"
      ]
     },
     "execution_count": 34,
     "metadata": {},
     "output_type": "execute_result"
    }
   ],
   "source": [
    "%%jinja html\n",
    "<!doctype html>\n",
    "<html>\n",
    "  <body>\n",
    "    <div class='person'>\n",
    "      <img src='https:{{ john.headshot.url(w=80) }}' alt='{{ john.name }}' />\n",
    "      <h2>{{ john.name }}</h2>\n",
    "      <p><small>Born on <i>{{ john.date_of_birth.strftime('%Y-%m-%d') }}</i></small></p>\n",
    "\n",
    "      <h3>Bio:</h3>\n",
    "      {{ john.bio|markdown }}\n",
    "    </div>\n",
    "  </body>\n",
    "</html>"
   ]
  },
  {
   "cell_type": "markdown",
   "metadata": {},
   "source": [
    "Now that we saw how to create a simple HTML frontend, let's take a look at a few other options.\n",
    "\n",
    "We'll now use a collection of entries that contain some data points of a scatterplot that Mr. Doe was using for creating some math based artworks.\n",
    "\n",
    "### Step 5: Fetch a collection of entries with a specific content type"
   ]
  },
  {
   "cell_type": "code",
   "execution_count": 37,
   "metadata": {},
   "outputs": [],
   "source": [
    "scatter_data = client.entries({'content_type': 'scatterData'})"
   ]
  },
  {
   "cell_type": "markdown",
   "metadata": {},
   "source": [
    "### Step 6: Use matplotlib to render scatter plot\n",
    "\n",
    "Using the widely-known [matplotlib](https://matplotlib.org/) we're going to create a scatter plot from the data obtained in the previous step. And that way, reproduce some of the art, that Mr. Doe has brought to this world."
   ]
  },
  {
   "cell_type": "code",
   "execution_count": 38,
   "metadata": {},
   "outputs": [
    {
     "data": {
      "image/png": "[encoded data removed]",
      "text/plain": [
       "<matplotlib.figure.Figure at 0x10a1a0d30>"
      ]
     },
     "metadata": {},
     "output_type": "display_data"
    }
   ],
   "source": [
    "%matplotlib inline\n",
    "import matplotlib.pyplot as plt\n",
    "\n",
    "xs = [data.x for data in scatter_data]\n",
    "ys = [data.y for data in scatter_data]\n",
    "\n",
    "plt.plot(xs, ys, 'bo')\n",
    "plt.show()"
   ]
  },
  {
   "cell_type": "markdown",
   "metadata": {},
   "source": [
    "Now we have a plot! ... kind of... It doesn't really look like much.\n",
    "\n",
    "A friend of us, who really loves Doe's art, is telling me that the result we got above, is actually the superposition of two of his math works.\n",
    "\n",
    "### Step 7: Understanding the result set"
   ]
  },
  {
   "cell_type": "code",
   "execution_count": 39,
   "metadata": {},
   "outputs": [],
   "source": [
    "artworks = {}\n",
    "for data in scatter_data:\n",
    "    if data.reference not in artworks:\n",
    "        artworks[data.reference] = {'x': [], 'y': []}\n",
    "    artworks[data.reference]['x'].append(data.x)\n",
    "    artworks[data.reference]['y'].append(data.y)"
   ]
  },
  {
   "cell_type": "markdown",
   "metadata": {},
   "source": [
    "Now we have the artworks separated by it's reference title, let's see what they look like when we separate them."
   ]
  },
  {
   "cell_type": "code",
   "execution_count": 40,
   "metadata": {
    "scrolled": false
   },
   "outputs": [
    {
     "data": {
      "image/png": "[encoded data removed]",
      "text/plain": [
       "<matplotlib.figure.Figure at 0x10c6c8be0>"
      ]
     },
     "metadata": {},
     "output_type": "display_data"
    },
    {
     "data": {
      "image/png": "[encoded data removed]",
      "text/plain": [
       "<matplotlib.figure.Figure at 0x10c748ac8>"
      ]
     },
     "metadata": {},
     "output_type": "display_data"
    }
   ],
   "source": [
    "%matplotlib inline\n",
    "\n",
    "for name, data in artworks.items():\n",
    "    plt.plot(data['x'], data['y'], 'bo')\n",
    "    plt.title(name)\n",
    "    plt.show()"
   ]
  },
  {
   "cell_type": "markdown",
   "metadata": {},
   "source": [
    "### Done! 🎉🎊👏\n",
    "Now we've discovered Mr. Doe's artworks! And in the process understand a bit more of the flexibility and power that Contentful provides.\n",
    "\n",
    "### What's next?\n",
    "You may have noticed that we could have probably avoided having superposed artworks.\n",
    "\n",
    "Can you figure out how? I'll give you a few options that you can later explore on your own.\n",
    "\n",
    "* Use search filters from our [Search API](https://www.contentful.com/developers/docs/references/content-delivery-api/#/reference/search-parameters)\n",
    "* Create an \"Artwork\" content type that contains a reference to all points in our artwork, then we can fetch the given artwork (or all of them), and avoid having to do any manual mapping.\n",
    "\n",
    "We're looking forward to hearing about other interesting solutions you've found! And of course we'd love to see what you can do with Contentful.\n",
    "\n",
    "Also, if you like to learn more about the available Contentful tools and tutorials in Python, you can read more [here](https://www.contentful.com/developers/docs/python/).\n",
    "\n",
    "Please feel free to provide us with feedback and contribute to our [repositories](https://github.com/contentful)"
   ]
  }
 ],
 "metadata": {
  "_draft": {
   "nbviewer_url": "https://gist.github.com/447bd07ffd18d68ac08c121d83683967"
  },
  "gist": {
   "data": {
    "description": "Contentful Walkthrough.ipynb",
    "public": false
   },
   "id": "447bd07ffd18d68ac08c121d83683967"
  },
  "kernelspec": {
   "display_name": "Python 3",
   "language": "python",
   "name": "python3"
  },
  "language_info": {
   "codemirror_mode": {
    "name": "ipython",
    "version": 3
   },
   "file_extension": ".py",
   "mimetype": "text/x-python",
   "name": "python",
   "nbconvert_exporter": "python",
   "pygments_lexer": "ipython3",
   "version": "3.6.3"
  },
  "toc": {
   "nav_menu": {},
   "number_sections": false,
   "sideBar": true,
   "skip_h1_title": false,
   "title_cell": "Table of Contents",
   "title_sidebar": "Contents",
   "toc_cell": true,
   "toc_position": {
    "height": "calc(100% - 180px)",
    "left": "10px",
    "top": "150px",
    "width": "336px"
   },
   "toc_section_display": true,
   "toc_window_display": false
  },
  "varInspector": {
   "cols": {
    "lenName": 16,
    "lenType": 16,
    "lenVar": 40
   },
   "kernels_config": {
    "python": {
     "delete_cmd_postfix": "",
     "delete_cmd_prefix": "del ",
     "library": "var_list.py",
     "varRefreshCmd": "print(var_dic_list())"
    },
    "r": {
     "delete_cmd_postfix": ") ",
     "delete_cmd_prefix": "rm(",
     "library": "var_list.r",
     "varRefreshCmd": "cat(var_dic_list()) "
    }
   },
   "types_to_exclude": [
    "module",
    "function",
    "builtin_function_or_method",
    "instance",
    "_Feature"
   ],
   "window_display": false
  }
 },
 "nbformat": 4,
 "nbformat_minor": 2
}
