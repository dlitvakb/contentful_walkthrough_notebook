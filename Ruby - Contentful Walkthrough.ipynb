{
 "cells": [
  {
   "cell_type": "markdown",
   "metadata": {},
   "source": [
    "<h1>Table of Contents<span class=\"tocSkip\"></span></h1>\n",
    "<div class=\"toc\"><ul class=\"toc-item\"><li><span><a href=\"#Contentful-Walkthrough\" data-toc-modified-id=\"Contentful-Walkthrough-1\">Contentful Walkthrough</a></span><ul class=\"toc-item\"><li><ul class=\"toc-item\"><li><span><a href=\"#What-is-Contentful?\" data-toc-modified-id=\"What-is-Contentful?-1.0.1\">What is Contentful?</a></span></li><li><span><a href=\"#Step-1:-Installation\" data-toc-modified-id=\"Step-1:-Installation-1.0.2\">Step 1: Installation</a></span></li><li><span><a href=\"#Step-2:-Creating-the-Contentful-client\" data-toc-modified-id=\"Step-2:-Creating-the-Contentful-client-1.0.3\">Step 2: Creating the Contentful client</a></span></li><li><span><a href=\"#Step-3:-Getting-your-first-entry\" data-toc-modified-id=\"Step-3:-Getting-your-first-entry-1.0.4\">Step 3: Getting your first entry</a></span></li><li><span><a href=\"#Step-4:-Creating-a-basic-frontend-for-our-content\" data-toc-modified-id=\"Step-4:-Creating-a-basic-frontend-for-our-content-1.0.5\">Step 4: Creating a basic frontend for our content</a></span><ul class=\"toc-item\"><li><span><a href=\"#Step-4.1:-Setting-up-the-Markdown-Engine\" data-toc-modified-id=\"Step-4.1:-Setting-up-the-Markdown-Engine-1.0.5.1\">Step 4.1: Setting up the Markdown Engine</a></span></li><li><span><a href=\"#Step-4.2:-Setting-up-the-HTML-Template-Engine\" data-toc-modified-id=\"Step-4.2:-Setting-up-the-HTML-Template-Engine-1.0.5.2\">Step 4.2: Setting up the HTML Template Engine</a></span></li><li><span><a href=\"#Step-4.3:-Displaying-the-result\" data-toc-modified-id=\"Step-4.3:-Displaying-the-result-1.0.5.3\">Step 4.3: Displaying the result</a></span></li></ul></li><li><span><a href=\"#Step-5:-Fetch-a-collection-of-entries-with-a-specific-content-type\" data-toc-modified-id=\"Step-5:-Fetch-a-collection-of-entries-with-a-specific-content-type-1.0.6\">Step 5: Fetch a collection of entries with a specific content type</a></span></li><li><span><a href=\"#Step-6:-Use-nyaplot-to-render-scatter-plot\" data-toc-modified-id=\"Step-6:-Use-nyaplot-to-render-scatter-plot-1.0.7\">Step 6: Use nyaplot to render scatter plot</a></span></li><li><span><a href=\"#Step-7:-Understanding-the-result-set\" data-toc-modified-id=\"Step-7:-Understanding-the-result-set-1.0.8\">Step 7: Understanding the result set</a></span></li><li><span><a href=\"#Done!-🎉🎊👏\" data-toc-modified-id=\"Done!-🎉🎊👏-1.0.9\">Done! 🎉🎊👏</a></span></li><li><span><a href=\"#What's-next?\" data-toc-modified-id=\"What's-next?-1.0.10\">What's next?</a></span></li></ul></li></ul></li></ul></div>"
   ]
  },
  {
   "cell_type": "markdown",
   "metadata": {},
   "source": [
    "# Contentful Walkthrough\n",
    "\n",
    "**A step by step tutorial on using Contentful in Ruby**\n",
    "\n",
    "### What is Contentful?\n",
    "[Contentful](https://www.contentful.com) provides a content infrastructure for digital teams to power content in websites, apps, and devices. Unlike a CMS, Contentful was built to integrate with the modern software stack. It offers a central hub for structured content, powerful management and delivery APIs, and a customizable web app that enable developers and content creators to ship digital products faster.\n",
    "\n",
    "\n",
    "### Step 1: Installation\n",
    "\n",
    "```bash\n",
    "gem install contentful\n",
    "```"
   ]
  },
  {
   "cell_type": "markdown",
   "metadata": {},
   "source": [
    "### Step 2: Creating the Contentful client\n",
    "\n",
    "Once you have the SDK installed, you can start fetching content right away. In this tutorial we'll use a publicly available demonstration space, which has some content already set up for us to explore in a few different ways."
   ]
  },
  {
   "cell_type": "code",
   "execution_count": 1,
   "metadata": {},
   "outputs": [
    {
     "data": {
      "text/plain": [
       "#<Contentful::Client:0x00007f9d3f1dc7f0 @configuration={:secure=>true, :raise_errors=>true, :dynamic_entries=>:auto, :api_url=>\"cdn.contentful.com\", :api_version=>1, :authentication_mechanism=>:header, :resource_builder=>Contentful::ResourceBuilder, :resource_mapping=>{}, :entry_mapping=>{}, :default_locale=>\"en-US\", :raw_mode=>false, :gzip_encoded=>true, :logger=>false, :log_level=>1, :proxy_host=>nil, :proxy_username=>nil, :proxy_password=>nil, :proxy_port=>nil, :max_rate_limit_retries=>1, :max_rate_limit_wait=>60, :max_include_resolution_depth=>20, :use_camel_case=>false, :application_name=>nil, :application_version=>nil, :integration_name=>nil, :integration_version=>nil, :space=>\"97g0w6chleyq\", :access_token=>\"00d278937d601fe20dfc8d977c6d86466defc03807b03ea46b694592bd7ee630\"}, @logger=false>"
      ]
     },
     "execution_count": 1,
     "metadata": {},
     "output_type": "execute_result"
    }
   ],
   "source": [
    "require 'contentful'\n",
    "\n",
    "client = Contentful::Client.new(\n",
    "    space: '97g0w6chleyq',\n",
    "    access_token: '00d278937d601fe20dfc8d977c6d86466defc03807b03ea46b694592bd7ee630',\n",
    "    dynamic_entries: :auto,\n",
    "    raise_errors: true\n",
    ")"
   ]
  },
  {
   "cell_type": "markdown",
   "metadata": {},
   "source": [
    "### Step 3: Getting your first entry\n",
    "\n",
    "With the client instantiated, now you can consume your first entry. In this case, we'll fetch `42fwUuhc5qQeEiuYsO2kig`, which is the entry for *John Doe*. And display some of it's properties."
   ]
  },
  {
   "cell_type": "code",
   "execution_count": 2,
   "metadata": {},
   "outputs": [
    {
     "name": "stdout",
     "output_type": "stream",
     "text": [
      "Name: John Doe\n",
      "Date of Birth: 1990-02-01T00:00:00+01:00\n",
      "Bio: John is a creative mind, he likes showing off his crazy new designs from his atellier.\n",
      "\n",
      "You can see more of his work at [CreativeJohn's](https://creativejohns.com).\n",
      "\n",
      "Or follow him at [@creativejohn](https://twitter.com/creativejohn).\n"
     ]
    }
   ],
   "source": [
    "john = client.entry('42fwUuhc5qQeEiuYsO2kig')\n",
    "\n",
    "puts \"Name: #{john.name}\"\n",
    "puts \"Date of Birth: #{john.date_of_birth}\"\n",
    "puts \"Bio: #{john.bio}\""
   ]
  },
  {
   "cell_type": "markdown",
   "metadata": {},
   "source": [
    "This already starts to look promising, but as you can notice, the data is in Markdown, and not very well formatted. Also, our data contains a picture of our fictional character, which we'd like to display. Therefore we're going to get a little bit fancier and create a very simple frontend for it.\n",
    "\n",
    "### Step 4: Creating a basic frontend for our content\n",
    "\n",
    "In this case we want to populate a template with the contents of the *John Doe* entry. For doing this, we'll use the [Slim](https://slim-lang.com) templating library, for template rendering, and the [CommonMark](https://commonmark.org) library for rendering Markdown."
   ]
  },
  {
   "cell_type": "markdown",
   "metadata": {},
   "source": [
    "#### Step 4.1: Setting up the Markdown Engine"
   ]
  },
  {
   "cell_type": "code",
   "execution_count": 3,
   "metadata": {},
   "outputs": [
    {
     "data": {
      "text/plain": [
       ":markdown"
      ]
     },
     "execution_count": 3,
     "metadata": {},
     "output_type": "execute_result"
    }
   ],
   "source": [
    "require 'commonmarker'\n",
    "\n",
    "def markdown(text)\n",
    "  CommonMarker.render_html(text, :DEFAULT)\n",
    "end"
   ]
  },
  {
   "cell_type": "markdown",
   "metadata": {},
   "source": [
    "#### Step 4.2: Setting up the HTML Template Engine"
   ]
  },
  {
   "cell_type": "code",
   "execution_count": 6,
   "metadata": {},
   "outputs": [
    {
     "data": {
      "text/plain": [
       ":render_template"
      ]
     },
     "execution_count": 6,
     "metadata": {},
     "output_type": "execute_result"
    }
   ],
   "source": [
    "require 'slim'\n",
    "require 'hashugar'\n",
    "\n",
    "def render_template(html, scope = {})\n",
    "  scope[:markdown] = lambda(&method(:markdown))\n",
    "  Slim::Template.new { html }.render(scope.to_hashugar)\n",
    "end"
   ]
  },
  {
   "cell_type": "markdown",
   "metadata": {},
   "source": [
    "#### Step 4.3: Displaying the result"
   ]
  },
  {
   "cell_type": "code",
   "execution_count": 9,
   "metadata": {},
   "outputs": [
    {
     "data": {
      "text/html": [
       "<!DOCTYPE html><html><body><div class=\"person\"><img alt=\"John Doe\" src=\"https://images.ctfassets.net/97g0w6chleyq/2m47RWoQJGYUq0UG666Ui8/0483848ddb10fbdb309c39024d8b21e0/N.Gogol_by_F.Moller__28early_1840s_2C_Ivanovo_29_detail.jpg?w=80\" /><h2>John Doe</h2><p><small>Born on <i>1990-02-01</i></small></p><h3>Bio:</h3><p>John is a creative mind, he likes showing off his crazy new designs from his atellier.</p>\n",
       "<p>You can see more of his work at <a href=\"https://creativejohns.com\">CreativeJohn's</a>.</p>\n",
       "<p>Or follow him at <a href=\"https://twitter.com/creativejohn\">@creativejohn</a>.</p>\n",
       "</div></body></html>"
      ],
      "text/plain": [
       "\"<!DOCTYPE html><html><body><div class=\\\"person\\\"><img alt=\\\"John Doe\\\" src=\\\"https://images.ctfassets.net/97g0w6chleyq/2m47RWoQJGYUq0UG666Ui8/0483848ddb10fbdb309c39024d8b21e0/N.Gogol_by_F.Moller__28early_1840s_2C_Ivanovo_29_detail.jpg?w=80\\\" /><h2>John Doe</h2><p><small>Born on <i>1990-02-01</i></small></p><h3>Bio:</h3><p>John is a creative mind, he likes showing off his crazy new designs from his atellier.</p>\\n<p>You can see more of his work at <a href=\\\"https://creativejohns.com\\\">CreativeJohn's</a>.</p>\\n<p>Or follow him at <a href=\\\"https://twitter.com/creativejohn\\\">@creativejohn</a>.</p>\\n</div></body></html>\""
      ]
     },
     "execution_count": 9,
     "metadata": {},
     "output_type": "execute_result"
    }
   ],
   "source": [
    "html =<<HTML\n",
    "doctype html\n",
    "html\n",
    "  body\n",
    "    .person\n",
    "      img*{src: \"https:\" + person.headshot.url(w:80), alt: person.name}\n",
    "      h2=person.name\n",
    "      p\n",
    "        small\n",
    "          = \"Born on \"\n",
    "          i=person.date_of_birth.strftime('%Y-%m-%d')\n",
    "\n",
    "      h3=\"Bio:\"\n",
    "      == markdown(person.bio)\n",
    "HTML\n",
    "\n",
    "IRuby.html render_template(html, person: john)"
   ]
  },
  {
   "cell_type": "markdown",
   "metadata": {},
   "source": [
    "Now that we saw how to create a simple HTML frontend, let's take a look at a few other options.\n",
    "\n",
    "We'll now use a collection of entries that contain some data points of a scatterplot that Mr. Doe was using for creating some math based artworks.\n",
    "\n",
    "### Step 5: Fetch a collection of entries with a specific content type"
   ]
  },
  {
   "cell_type": "code",
   "execution_count": 10,
   "metadata": {},
   "outputs": [
    {
     "data": {
      "text/plain": [
       "<Contentful::Array total=28 skip=0 limit=100>"
      ]
     },
     "execution_count": 10,
     "metadata": {},
     "output_type": "execute_result"
    }
   ],
   "source": [
    "scatter_data = client.entries(content_type: 'scatterData')"
   ]
  },
  {
   "cell_type": "markdown",
   "metadata": {},
   "source": [
    "### Step 6: Use nyaplot to render scatter plot\n",
    "\n",
    "Using the widely-known [nyaplot](https://github.com/domitry/nyaplot) we're going to create a scatter plot from the data obtained in the previous step. And that way, reproduce some of the art, that Mr. Doe has brought to this world."
   ]
  },
  {
   "cell_type": "code",
   "execution_count": 24,
   "metadata": {},
   "outputs": [
    {
     "data": {
      "text/html": [
       "<div id='vis-b8e154dd-9080-4bc5-baec-498671b333f6'></div>\n",
       "<script>\n",
       "(function(){\n",
       "    var render = function(){\n",
       "        var model = {\"panes\":[{\"diagrams\":[{\"type\":\"scatter\",\"options\":{\"x\":\"data0\",\"y\":\"data1\",\"color\":\"#00F\"},\"data\":\"93261a95-d67b-4283-8e2b-386d175bb46f\"},{\"type\":\"scatter\",\"options\":{\"x\":\"data0\",\"y\":\"data1\"},\"data\":\"772aad68-d04b-4dfa-ac30-48fdda92241c\"}],\"options\":{\"y_label\":\"\",\"x_label\":\"\",\"legend\":false,\"zoom\":true,\"width\":700,\"xrange\":[0.5,9.5],\"yrange\":[-0.5,8.0]}}],\"data\":{\"93261a95-d67b-4283-8e2b-386d175bb46f\":[{\"data0\":5.0,\"data1\":5.0},{\"data0\":8.0,\"data1\":3.0},{\"data0\":8.0,\"data1\":6.0},{\"data0\":4.0,\"data1\":6.0},{\"data0\":3.0,\"data1\":7.0},{\"data0\":4.0,\"data1\":4.0},{\"data0\":5.0,\"data1\":0.5},{\"data0\":6.0,\"data1\":6.0},{\"data0\":2.0,\"data1\":3.0},{\"data0\":7.0,\"data1\":2.0},{\"data0\":3.0,\"data1\":2.0},{\"data0\":3.0,\"data1\":5.0},{\"data0\":6.0,\"data1\":1.0},{\"data0\":7.0,\"data1\":3.5},{\"data0\":6.0,\"data1\":4.0},{\"data0\":7.0,\"data1\":5.0},{\"data0\":7.0,\"data1\":6.5},{\"data0\":3.0,\"data1\":6.0},{\"data0\":7.0,\"data1\":7.0},{\"data0\":8.5,\"data1\":5.0},{\"data0\":8.0,\"data1\":4.0},{\"data0\":7.0,\"data1\":6.0},{\"data0\":2.0,\"data1\":4.0},{\"data0\":3.0,\"data1\":6.5},{\"data0\":3.0,\"data1\":3.5},{\"data0\":4.0,\"data1\":1.0},{\"data0\":1.5,\"data1\":5.0},{\"data0\":2.0,\"data1\":6.0}],\"772aad68-d04b-4dfa-ac30-48fdda92241c\":[{\"data0\":0.5,\"data1\":-0.5},{\"data0\":9.5,\"data1\":8.0}]},\"extension\":[]}\n",
       "        var id_name = '#vis-b8e154dd-9080-4bc5-baec-498671b333f6';\n",
       "        Nyaplot.core.parse(model, id_name);\n",
       "\n",
       "        require(['downloadable'], function(downloadable){\n",
       "          var svg = d3.select(id_name).select(\"svg\");\n",
       "\t  if(!svg.empty())\n",
       "\t    svg.call(downloadable().filename('fig'));\n",
       "\t});\n",
       "    };\n",
       "    if(window['Nyaplot']==undefined){\n",
       "        window.addEventListener('load_nyaplot', render, false);\n",
       "\treturn;\n",
       "    } else {\n",
       "       render();\n",
       "    }\n",
       "})();\n",
       "</script>\n"
      ],
      "text/plain": [
       "#<Nyaplot::Frame:0x00007f9d41b82d48 @properties={:panes=>[#<Nyaplot::Plot:0x00007f9d41b8a908 @properties={:diagrams=>[#<Nyaplot::Diagram:0x00007f9d41b88158 @properties={:type=>:scatter, :options=>{:x=>\"data0\", :y=>\"data1\", :color=>\"#00F\"}, :data=>\"93261a95-d67b-4283-8e2b-386d175bb46f\"}, @xrange=[1.5, 8.5], @yrange=[0.5, 7.0]>, #<Nyaplot::Diagram:0x00007f9d41b83248 @properties={:type=>:scatter, :options=>{:x=>\"data0\", :y=>\"data1\"}, :data=>\"772aad68-d04b-4dfa-ac30-48fdda92241c\"}, @xrange=[0.5, 9.5], @yrange=[-0.5, 8.0]>], :options=>{:y_label=>\"\", :x_label=>\"\", :legend=>false, :zoom=>true, :width=>700, :xrange=>[0.5, 9.5], :yrange=>[-0.5, 8.0]}}>], :data=>{\"93261a95-d67b-4283-8e2b-386d175bb46f\"=>#<Nyaplot::DataFrame:0x00007f9d41b8a368 @name=\"93261a95-d67b-4283-8e2b-386d175bb46f\", @rows=[{:data0=>5.0, :data1=>5.0}, {:data0=>8.0, :data1=>3.0}, {:data0=>8.0, :data1=>6.0}, {:data0=>4.0, :data1=>6.0}, {:data0=>3.0, :data1=>7.0}, {:data0=>4.0, :data1=>4.0}, {:data0=>5.0, :data1=>0.5}, {:data0=>6.0, :data1=>6.0}, {:data0=>2.0, :data1=>3.0}, {:data0=>7.0, :data1=>2.0}, {:data0=>3.0, :data1=>2.0}, {:data0=>3.0, :data1=>5.0}, {:data0=>6.0, :data1=>1.0}, {:data0=>7.0, :data1=>3.5}, {:data0=>6.0, :data1=>4.0}, {:data0=>7.0, :data1=>5.0}, {:data0=>7.0, :data1=>6.5}, {:data0=>3.0, :data1=>6.0}, {:data0=>7.0, :data1=>7.0}, {:data0=>8.5, :data1=>5.0}, {:data0=>8.0, :data1=>4.0}, {:data0=>7.0, :data1=>6.0}, {:data0=>2.0, :data1=>4.0}, {:data0=>3.0, :data1=>6.5}, {:data0=>3.0, :data1=>3.5}, {:data0=>4.0, :data1=>1.0}, {:data0=>1.5, :data1=>5.0}, {:data0=>2.0, :data1=>6.0}]>, \"772aad68-d04b-4dfa-ac30-48fdda92241c\"=>#<Nyaplot::DataFrame:0x00007f9d41b83798 @name=\"772aad68-d04b-4dfa-ac30-48fdda92241c\", @rows=[{:data0=>0.5, :data1=>-0.5}, {:data0=>9.5, :data1=>8.0}]>}, :extension=>[]}>"
      ]
     },
     "metadata": {},
     "output_type": "display_data"
    },
    {
     "data": {
      "text/plain": [
       "#<CZTop::Socket::PUB:0x7f9d407f39c0 last_endpoint=\"tcp://127.0.0.1:64124\">"
      ]
     },
     "execution_count": 24,
     "metadata": {},
     "output_type": "execute_result"
    }
   ],
   "source": [
    "require 'nyaplot'\n",
    "\n",
    "xs = scatter_data.map(&:x)\n",
    "ys = scatter_data.map(&:y)\n",
    "\n",
    "x_boundaries = [xs.min - 1, xs.max + 1]\n",
    "y_boundaries = [ys.min - 1, ys.max + 1]\n",
    "\n",
    "plot = Nyaplot::Plot.new\n",
    "plot.y_label('')\n",
    "plot.x_label('')\n",
    "\n",
    "scatter = plot.add(:scatter, xs, ys)\n",
    "scatter.color('#00F')\n",
    "\n",
    "boundaries = plot.add(:scatter, x_boundaries, y_boundaries)\n",
    "\n",
    "plot.legend(false)\n",
    "plot.show"
   ]
  },
  {
   "cell_type": "markdown",
   "metadata": {},
   "source": [
    "Now we have a plot! ... kind of... It doesn't really look like much.\n",
    "\n",
    "A friend of us, who really loves Doe's art, is telling me that the result we got above, is actually the superposition of two of his math works.\n",
    "\n",
    "### Step 7: Understanding the result set"
   ]
  },
  {
   "cell_type": "code",
   "execution_count": 21,
   "metadata": {},
   "outputs": [
    {
     "data": {
      "text/plain": [
       "[<Contentful::Entry[scatterData] id='5zU2davBeMqqYa04CIu8E'>, <Contentful::Entry[scatterData] id='44tTj7LuLKYAqSgUAKSqey'>, <Contentful::Entry[scatterData] id='1fpxk9FYSIK4a8mMu2Y2MY'>, <Contentful::Entry[scatterData] id='jZxx0ALWiOWMQG8wIq4OA'>, <Contentful::Entry[scatterData] id='3LpAaUkjJYACoGu6UOym6k'>, <Contentful::Entry[scatterData] id='6iPidY1pdeGMiwgUkEc4Uu'>, <Contentful::Entry[scatterData] id='4NJAvkFETmUuaagwyIae6S'>, <Contentful::Entry[scatterData] id='53utOxUPj2Ggkq0wse20CO'>, <Contentful::Entry[scatterData] id='3Sw4CV7EZOyU6ow2U8IMAu'>, <Contentful::Entry[scatterData] id='1d80DpIRPWK4YsYGa8EIIa'>, <Contentful::Entry[scatterData] id='1fUMzLVVi8ws2qsW0iEaEy'>, <Contentful::Entry[scatterData] id='1U9kLW0R9KuKWSQqig2wcO'>, <Contentful::Entry[scatterData] id='1grcK8KBjYO0GIsackCIOI'>, <Contentful::Entry[scatterData] id='3kgF9ryQPug6aAiOSCCYo0'>, <Contentful::Entry[scatterData] id='1I9tw3GeIEia6IKgyK0CGW'>, <Contentful::Entry[scatterData] id='1P4HPORpA0Cea2S20ws0gI'>, <Contentful::Entry[scatterData] id='4NNmRcgwbCuC4SwQsq06y'>, <Contentful::Entry[scatterData] id='40cCVc3GLCOiQgsmk0W8mA'>, <Contentful::Entry[scatterData] id='r9191PxMekwouQKYYWwY8'>, <Contentful::Entry[scatterData] id='2tGyA86hscecCqqCsMeUWu'>, <Contentful::Entry[scatterData] id='5G3zvBjzq0uCACUWekaiyW'>, <Contentful::Entry[scatterData] id='6jt9hVSnxmuOmQgGckKAkg'>, <Contentful::Entry[scatterData] id='5Lz6MkKomcEWe6WY8m6eCs'>, <Contentful::Entry[scatterData] id='7iCTWxWAMwwys00s8cce68'>, <Contentful::Entry[scatterData] id='34eBSmrbwAMiEG0AUqYQOS'>, <Contentful::Entry[scatterData] id='4nZfbEDgdyqscosSkE4yKq'>, <Contentful::Entry[scatterData] id='COuTnOOJ5AAyEyI0sguc'>, <Contentful::Entry[scatterData] id='3cx1ObyaDYGMuSqaCCWGus'>]"
      ]
     },
     "execution_count": 21,
     "metadata": {},
     "output_type": "execute_result"
    }
   ],
   "source": [
    "artworks = {}\n",
    "scatter_data.each do |data|\n",
    "  artworks[data.reference] = {x: [], y: []} if !artworks.include?(data.reference)\n",
    "  \n",
    "  artworks[data.reference][:x] << data.x\n",
    "  artworks[data.reference][:y] << data.y\n",
    "end"
   ]
  },
  {
   "cell_type": "markdown",
   "metadata": {},
   "source": [
    "Now we have the artworks separated by it's reference title, let's see what they look like when we separate them."
   ]
  },
  {
   "cell_type": "code",
   "execution_count": 25,
   "metadata": {},
   "outputs": [
    {
     "data": {
      "text/html": [
       "<div id='vis-762fe44d-adaa-4fd3-9178-e76752a3cc68'></div>\n",
       "<script>\n",
       "(function(){\n",
       "    var render = function(){\n",
       "        var model = {\"panes\":[{\"diagrams\":[{\"type\":\"scatter\",\"options\":{\"x\":\"data0\",\"y\":\"data1\",\"color\":\"#00F\"},\"data\":\"052cd265-c8ee-49c1-97df-400e21a479ee\"},{\"type\":\"scatter\",\"options\":{\"x\":\"data0\",\"y\":\"data1\"},\"data\":\"86a4c209-78ec-4e55-a542-4e66892cb975\"}],\"options\":{\"y_label\":\"\",\"x_label\":\"infinity\",\"zoom\":true,\"width\":700,\"xrange\":[0.5,9.5],\"yrange\":[2.5,7.5]}}],\"data\":{\"052cd265-c8ee-49c1-97df-400e21a479ee\":[{\"data0\":5.0,\"data1\":5.0},{\"data0\":8.0,\"data1\":6.0},{\"data0\":4.0,\"data1\":6.0},{\"data0\":4.0,\"data1\":4.0},{\"data0\":6.0,\"data1\":6.0},{\"data0\":7.0,\"data1\":3.5},{\"data0\":6.0,\"data1\":4.0},{\"data0\":7.0,\"data1\":6.5},{\"data0\":8.5,\"data1\":5.0},{\"data0\":8.0,\"data1\":4.0},{\"data0\":2.0,\"data1\":4.0},{\"data0\":3.0,\"data1\":6.5},{\"data0\":3.0,\"data1\":3.5},{\"data0\":1.5,\"data1\":5.0},{\"data0\":2.0,\"data1\":6.0}],\"86a4c209-78ec-4e55-a542-4e66892cb975\":[{\"data0\":0.5,\"data1\":2.5},{\"data0\":9.5,\"data1\":7.5}]},\"extension\":[]}\n",
       "        var id_name = '#vis-762fe44d-adaa-4fd3-9178-e76752a3cc68';\n",
       "        Nyaplot.core.parse(model, id_name);\n",
       "\n",
       "        require(['downloadable'], function(downloadable){\n",
       "          var svg = d3.select(id_name).select(\"svg\");\n",
       "\t  if(!svg.empty())\n",
       "\t    svg.call(downloadable().filename('fig'));\n",
       "\t});\n",
       "    };\n",
       "    if(window['Nyaplot']==undefined){\n",
       "        window.addEventListener('load_nyaplot', render, false);\n",
       "\treturn;\n",
       "    } else {\n",
       "       render();\n",
       "    }\n",
       "})();\n",
       "</script>\n"
      ],
      "text/plain": [
       "#<Nyaplot::Frame:0x00007f9d40cc0300 @properties={:panes=>[#<Nyaplot::Plot:0x00007f9d40cc2e20 @properties={:diagrams=>[#<Nyaplot::Diagram:0x00007f9d40cc1728 @properties={:type=>:scatter, :options=>{:x=>\"data0\", :y=>\"data1\", :color=>\"#00F\"}, :data=>\"052cd265-c8ee-49c1-97df-400e21a479ee\"}, @xrange=[1.5, 8.5], @yrange=[3.5, 6.5]>, #<Nyaplot::Diagram:0x00007f9d40cc07d8 @properties={:type=>:scatter, :options=>{:x=>\"data0\", :y=>\"data1\"}, :data=>\"86a4c209-78ec-4e55-a542-4e66892cb975\"}, @xrange=[0.5, 9.5], @yrange=[2.5, 7.5]>], :options=>{:y_label=>\"\", :x_label=>\"infinity\", :zoom=>true, :width=>700, :xrange=>[0.5, 9.5], :yrange=>[2.5, 7.5]}}>], :data=>{\"052cd265-c8ee-49c1-97df-400e21a479ee\"=>#<Nyaplot::DataFrame:0x00007f9d40cc28a8 @name=\"052cd265-c8ee-49c1-97df-400e21a479ee\", @rows=[{:data0=>5.0, :data1=>5.0}, {:data0=>8.0, :data1=>6.0}, {:data0=>4.0, :data1=>6.0}, {:data0=>4.0, :data1=>4.0}, {:data0=>6.0, :data1=>6.0}, {:data0=>7.0, :data1=>3.5}, {:data0=>6.0, :data1=>4.0}, {:data0=>7.0, :data1=>6.5}, {:data0=>8.5, :data1=>5.0}, {:data0=>8.0, :data1=>4.0}, {:data0=>2.0, :data1=>4.0}, {:data0=>3.0, :data1=>6.5}, {:data0=>3.0, :data1=>3.5}, {:data0=>1.5, :data1=>5.0}, {:data0=>2.0, :data1=>6.0}]>, \"86a4c209-78ec-4e55-a542-4e66892cb975\"=>#<Nyaplot::DataFrame:0x00007f9d40cc0e40 @name=\"86a4c209-78ec-4e55-a542-4e66892cb975\", @rows=[{:data0=>0.5, :data1=>2.5}, {:data0=>9.5, :data1=>7.5}]>}, :extension=>[]}>"
      ]
     },
     "metadata": {},
     "output_type": "display_data"
    },
    {
     "data": {
      "text/html": [
       "<div id='vis-f9b7edbe-4e5b-4f16-a793-7e7802daf368'></div>\n",
       "<script>\n",
       "(function(){\n",
       "    var render = function(){\n",
       "        var model = {\"panes\":[{\"diagrams\":[{\"type\":\"scatter\",\"options\":{\"x\":\"data0\",\"y\":\"data1\",\"color\":\"#00F\"},\"data\":\"f9969774-12a3-4f52-92b5-5c0e18910c67\"},{\"type\":\"scatter\",\"options\":{\"x\":\"data0\",\"y\":\"data1\"},\"data\":\"f81a4e50-52ca-4430-bbaa-12bf3a164f74\"}],\"options\":{\"y_label\":\"\",\"x_label\":\"smiley\",\"zoom\":true,\"width\":700,\"xrange\":[1.0,9.0],\"yrange\":[-0.5,8.0]}}],\"data\":{\"f9969774-12a3-4f52-92b5-5c0e18910c67\":[{\"data0\":8.0,\"data1\":3.0},{\"data0\":3.0,\"data1\":7.0},{\"data0\":5.0,\"data1\":0.5},{\"data0\":2.0,\"data1\":3.0},{\"data0\":7.0,\"data1\":2.0},{\"data0\":3.0,\"data1\":2.0},{\"data0\":3.0,\"data1\":5.0},{\"data0\":6.0,\"data1\":1.0},{\"data0\":7.0,\"data1\":5.0},{\"data0\":3.0,\"data1\":6.0},{\"data0\":7.0,\"data1\":7.0},{\"data0\":7.0,\"data1\":6.0},{\"data0\":4.0,\"data1\":1.0}],\"f81a4e50-52ca-4430-bbaa-12bf3a164f74\":[{\"data0\":1.0,\"data1\":-0.5},{\"data0\":9.0,\"data1\":8.0}]},\"extension\":[]}\n",
       "        var id_name = '#vis-f9b7edbe-4e5b-4f16-a793-7e7802daf368';\n",
       "        Nyaplot.core.parse(model, id_name);\n",
       "\n",
       "        require(['downloadable'], function(downloadable){\n",
       "          var svg = d3.select(id_name).select(\"svg\");\n",
       "\t  if(!svg.empty())\n",
       "\t    svg.call(downloadable().filename('fig'));\n",
       "\t});\n",
       "    };\n",
       "    if(window['Nyaplot']==undefined){\n",
       "        window.addEventListener('load_nyaplot', render, false);\n",
       "\treturn;\n",
       "    } else {\n",
       "       render();\n",
       "    }\n",
       "})();\n",
       "</script>\n"
      ],
      "text/plain": [
       "#<Nyaplot::Frame:0x00007f9d3f36dbc8 @properties={:panes=>[#<Nyaplot::Plot:0x00007f9d42814458 @properties={:diagrams=>[#<Nyaplot::Diagram:0x00007f9d3f36eed8 @properties={:type=>:scatter, :options=>{:x=>\"data0\", :y=>\"data1\", :color=>\"#00F\"}, :data=>\"f9969774-12a3-4f52-92b5-5c0e18910c67\"}, @xrange=[2.0, 8.0], @yrange=[0.5, 7.0]>, #<Nyaplot::Diagram:0x00007f9d3f36e0a0 @properties={:type=>:scatter, :options=>{:x=>\"data0\", :y=>\"data1\"}, :data=>\"f81a4e50-52ca-4430-bbaa-12bf3a164f74\"}, @xrange=[1.0, 9.0], @yrange=[-0.5, 8.0]>], :options=>{:y_label=>\"\", :x_label=>\"smiley\", :zoom=>true, :width=>700, :xrange=>[1.0, 9.0], :yrange=>[-0.5, 8.0]}}>], :data=>{\"f9969774-12a3-4f52-92b5-5c0e18910c67\"=>#<Nyaplot::DataFrame:0x00007f9d3f36fe78 @name=\"f9969774-12a3-4f52-92b5-5c0e18910c67\", @rows=[{:data0=>8.0, :data1=>3.0}, {:data0=>3.0, :data1=>7.0}, {:data0=>5.0, :data1=>0.5}, {:data0=>2.0, :data1=>3.0}, {:data0=>7.0, :data1=>2.0}, {:data0=>3.0, :data1=>2.0}, {:data0=>3.0, :data1=>5.0}, {:data0=>6.0, :data1=>1.0}, {:data0=>7.0, :data1=>5.0}, {:data0=>3.0, :data1=>6.0}, {:data0=>7.0, :data1=>7.0}, {:data0=>7.0, :data1=>6.0}, {:data0=>4.0, :data1=>1.0}]>, \"f81a4e50-52ca-4430-bbaa-12bf3a164f74\"=>#<Nyaplot::DataFrame:0x00007f9d3f36e5f0 @name=\"f81a4e50-52ca-4430-bbaa-12bf3a164f74\", @rows=[{:data0=>1.0, :data1=>-0.5}, {:data0=>9.0, :data1=>8.0}]>}, :extension=>[]}>"
      ]
     },
     "metadata": {},
     "output_type": "display_data"
    },
    {
     "data": {
      "text/plain": [
       "{\"infinity\"=>{:x=>[5.0, 8.0, 4.0, 4.0, 6.0, 7.0, 6.0, 7.0, 8.5, 8.0, 2.0, 3.0, 3.0, 1.5, 2.0], :y=>[5.0, 6.0, 6.0, 4.0, 6.0, 3.5, 4.0, 6.5, 5.0, 4.0, 4.0, 6.5, 3.5, 5.0, 6.0]}, \"smiley\"=>{:x=>[8.0, 3.0, 5.0, 2.0, 7.0, 3.0, 3.0, 6.0, 7.0, 3.0, 7.0, 7.0, 4.0], :y=>[3.0, 7.0, 0.5, 3.0, 2.0, 2.0, 5.0, 1.0, 5.0, 6.0, 7.0, 6.0, 1.0]}}"
      ]
     },
     "execution_count": 25,
     "metadata": {},
     "output_type": "execute_result"
    }
   ],
   "source": [
    "artworks.each do |name, data|\n",
    "  x_boundaries = [data[:x].min - 1, data[:x].max + 1]\n",
    "  y_boundaries = [data[:y].min - 1, data[:y].max + 1]\n",
    "\n",
    "  plot = Nyaplot::Plot.new\n",
    "  plot.y_label('')\n",
    "  plot.x_label(name)\n",
    "\n",
    "  scatter = plot.add(:scatter, data[:x], data[:y])\n",
    "  scatter.color('#00F')\n",
    "\n",
    "  boundaries = plot.add(:scatter, x_boundaries, y_boundaries)\n",
    "\n",
    "  plot.show\n",
    "end"
   ]
  },
  {
   "cell_type": "markdown",
   "metadata": {},
   "source": [
    "### Done! 🎉🎊👏\n",
    "Now we've discovered Mr. Doe's artworks! And in the process understand a bit more of the flexibility and power that Contentful provides.\n",
    "\n",
    "### What's next?\n",
    "You may have noticed that we could have probably avoided having superposed artworks.\n",
    "\n",
    "Can you figure out how? I'll give you a few options that you can later explore on your own.\n",
    "\n",
    "* Use search filters from our [Search API](https://www.contentful.com/developers/docs/references/content-delivery-api/#/reference/search-parameters)\n",
    "* Create an \"Artwork\" content type that contains a reference to all points in our artwork, then we can fetch the given artwork (or all of them), and avoid having to do any manual mapping.\n",
    "\n",
    "We're looking forward to hearing about other interesting solutions you've found! And of course we'd love to see what you can do with Contentful.\n",
    "\n",
    "Also, if you like to learn more about the available Contentful tools and tutorials in Python, you can read more [here](https://www.contentful.com/developers/docs/python/).\n",
    "\n",
    "Please feel free to provide us with feedback and contribute to our [repositories](https://github.com/contentful)"
   ]
  }
 ],
 "metadata": {
  "kernelspec": {
   "display_name": "Ruby 2.5.1",
   "language": "ruby",
   "name": "ruby"
  },
  "language_info": {
   "file_extension": ".rb",
   "mimetype": "application/x-ruby",
   "name": "ruby",
   "version": "2.5.1"
  },
  "toc": {
   "nav_menu": {},
   "number_sections": true,
   "sideBar": true,
   "skip_h1_title": false,
   "title_cell": "Table of Contents",
   "title_sidebar": "Contents",
   "toc_cell": false,
   "toc_position": {},
   "toc_section_display": true,
   "toc_window_display": false
  },
  "varInspector": {
   "cols": {
    "lenName": 16,
    "lenType": 16,
    "lenVar": 40
   },
   "kernels_config": {
    "python": {
     "delete_cmd_postfix": "",
     "delete_cmd_prefix": "del ",
     "library": "var_list.py",
     "varRefreshCmd": "print(var_dic_list())"
    },
    "r": {
     "delete_cmd_postfix": ") ",
     "delete_cmd_prefix": "rm(",
     "library": "var_list.r",
     "varRefreshCmd": "cat(var_dic_list()) "
    }
   },
   "types_to_exclude": [
    "module",
    "function",
    "builtin_function_or_method",
    "instance",
    "_Feature"
   ],
   "window_display": false
  }
 },
 "nbformat": 4,
 "nbformat_minor": 2
}
