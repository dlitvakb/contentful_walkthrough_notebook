{
 "cells": [
  {
   "cell_type": "markdown",
   "metadata": {},
   "source": [
    "<h1>Table of Contents<span class=\"tocSkip\"></span></h1>\n",
    "<div class=\"toc\"><ul class=\"toc-item\"><li><span><a href=\"#Contentful-Walkthrough\" data-toc-modified-id=\"Contentful-Walkthrough-1\">Contentful Walkthrough</a></span><ul class=\"toc-item\"><li><ul class=\"toc-item\"><li><span><a href=\"#What-is-Contentful?\" data-toc-modified-id=\"What-is-Contentful?-1.0.1\">What is Contentful?</a></span></li><li><span><a href=\"#Step-1:-Installation\" data-toc-modified-id=\"Step-1:-Installation-1.0.2\">Step 1: Installation</a></span></li><li><span><a href=\"#Step-2:-Creating-the-Contentful-client\" data-toc-modified-id=\"Step-2:-Creating-the-Contentful-client-1.0.3\">Step 2: Creating the Contentful client</a></span></li><li><span><a href=\"#Step-3:-Getting-your-first-entry\" data-toc-modified-id=\"Step-3:-Getting-your-first-entry-1.0.4\">Step 3: Getting your first entry</a></span></li><li><span><a href=\"#Step-4:-Creating-a-basic-frontend-for-our-content\" data-toc-modified-id=\"Step-4:-Creating-a-basic-frontend-for-our-content-1.0.5\">Step 4: Creating a basic frontend for our content</a></span><ul class=\"toc-item\"><li><span><a href=\"#Step-4.1:-Setting-up-the-Markdown-Engine\" data-toc-modified-id=\"Step-4.1:-Setting-up-the-Markdown-Engine-1.0.5.1\">Step 4.1: Setting up the Markdown Engine</a></span></li><li><span><a href=\"#Step-4.2:-Setting-up-the-HTML-Template-Engine\" data-toc-modified-id=\"Step-4.2:-Setting-up-the-HTML-Template-Engine-1.0.5.2\">Step 4.2: Setting up the HTML Template Engine</a></span></li><li><span><a href=\"#Step-4.3:-Setting-up the-Date-Formatter\" data-toc-modified-id=\"Step-4.4:-Displaying-the-result-1.0.5.3\">Step 4.3: Setting up the Date Formatter</a></span></li><li><span><a href=\"#Step-4.3:-Displaying-the-result\" data-toc-modified-id=\"Step-4.4:-Displaying-the-result-1.0.5.3\">Step 4.4: Displaying the result</a></span></li></ul></li><li><span><a href=\"#Step-5:-Fetch-a-collection-of-entries-with-a-specific-content-type\" data-toc-modified-id=\"Step-5:-Fetch-a-collection-of-entries-with-a-specific-content-type-1.0.6\">Step 5: Fetch a collection of entries with a specific content type</a></span></li><li><span><a href=\"#Step-6:-Use-matplotlib-to-render-scatter-plot\" data-toc-modified-id=\"Step-6:-Use-matplotlib-to-render-scatter-plot-1.0.7\">Step 6: Use matplotlib to render scatter plot</a></span></li><li><span><a href=\"#Step-7:-Understanding-the-result-set\" data-toc-modified-id=\"Step-7:-Understanding-the-result-set-1.0.8\">Step 7: Understanding the result set</a></span></li><li><span><a href=\"#Done!-🎉🎊👏\" data-toc-modified-id=\"Done!-🎉🎊👏-1.0.9\">Done! 🎉🎊👏</a></span></li><li><span><a href=\"#What's-next?\" data-toc-modified-id=\"What's-next?-1.0.10\">What's next?</a></span></li></ul></li></ul></li></ul></div>"
   ]
  },
  {
   "cell_type": "markdown",
   "metadata": {},
   "source": [
    "# Contentful Walkthrough\n",
    "\n",
    "**A step by step tutorial on using Contentful in Javascript**\n",
    "\n",
    "### What is Contentful?\n",
    "[Contentful](https://www.contentful.com) provides a content infrastructure for digital teams to power content in websites, apps, and devices. Unlike a CMS, Contentful was built to integrate with the modern software stack. It offers a central hub for structured content, powerful management and delivery APIs, and a customizable web app that enable developers and content creators to ship digital products faster.\n",
    "\n",
    "\n",
    "### Step 1: Installation\n",
    "\n",
    "```bash\n",
    "npm install contentful\n",
    "```"
   ]
  },
  {
   "cell_type": "markdown",
   "metadata": {},
   "source": [
    "### Step 2: Creating the Contentful client\n",
    "\n",
    "Once you have the SDK installed, you can start fetching content right away. In this tutorial we'll use a publicly available demonstration space, which has some content already set up for us to explore in a few different ways."
   ]
  },
  {
   "cell_type": "code",
   "execution_count": 1,
   "metadata": {},
   "outputs": [],
   "source": [
    "const {createClient} = require('contentful')\n",
    "\n",
    "const client = createClient({\n",
    "    space: '97g0w6chleyq',\n",
    "    accessToken: '00d278937d601fe20dfc8d977c6d86466defc03807b03ea46b694592bd7ee630'\n",
    "})"
   ]
  },
  {
   "cell_type": "markdown",
   "metadata": {},
   "source": [
    "### Step 3: Getting your first entry\n",
    "\n",
    "With the client instantiated, now you can consume your first entry. In this case, we'll fetch `42fwUuhc5qQeEiuYsO2kig`, which is the entry for *John Doe*. And display some of it's properties."
   ]
  },
  {
   "cell_type": "code",
   "execution_count": 2,
   "metadata": {},
   "outputs": [
    {
     "data": {
      "text/plain": [
       "{ sys: \n",
       "   { space: { sys: [Object] },\n",
       "     id: '42fwUuhc5qQeEiuYsO2kig',\n",
       "     type: 'Entry',\n",
       "     createdAt: '2018-02-23T10:18:00.139Z',\n",
       "     updatedAt: '2018-02-23T10:18:00.139Z',\n",
       "     environment: { sys: [Object] },\n",
       "     revision: 1,\n",
       "     contentType: { sys: [Object] },\n",
       "     locale: 'en-US' },\n",
       "  fields: \n",
       "   { name: 'John Doe',\n",
       "     bio: 'John is a creative mind, he likes showing off his crazy new designs from his atellier.\\n\\nYou can see more of his work at [CreativeJohn\\'s](https://creativejohns.com).\\n\\nOr follow him at [@creativejohn](https://twitter.com/creativejohn).',\n",
       "     dateOfBirth: '1990-02-01T00:00+01:00',\n",
       "     headshot: { sys: [Object], fields: [Object] } } }"
      ]
     },
     "execution_count": 2,
     "metadata": {},
     "output_type": "execute_result"
    }
   ],
   "source": [
    "var john\n",
    "client.getEntries(\n",
    "    {\"sys.id\": \"42fwUuhc5qQeEiuYsO2kig\"}\n",
    ").then((entries) => john = entries.items[0]).catch((err) => console.log(err))"
   ]
  },
  {
   "cell_type": "markdown",
   "metadata": {},
   "source": [
    "This already starts to look promising, but as you can notice, the data is in Markdown, and not very well formatted. Also, our data contains a picture of our fictional character, which we'd like to display. Therefore we're going to get a little bit fancier and create a very simple frontend for it.\n",
    "\n",
    "### Step 4: Creating a basic frontend for our content\n",
    "\n",
    "In this case we want to populate a template with the contents of the *John Doe* entry. For doing this, we'll use the [Pug](https://pugjs.org/) templating library, for template rendering, and the [CommonMark](https://commonmark.org) library for rendering Markdown."
   ]
  },
  {
   "cell_type": "markdown",
   "metadata": {},
   "source": [
    "#### Step 4.1: Setting up the Markdown Engine"
   ]
  },
  {
   "cell_type": "code",
   "execution_count": 3,
   "metadata": {},
   "outputs": [],
   "source": [
    "const cm = require('commonmark')\n",
    "const cmReader = new cm.Parser()\n",
    "const cmWriter = new cm.HtmlRenderer()\n",
    "\n",
    "const markdown = (mkString) => {\n",
    "    const ast = cmReader.parse(mkString)\n",
    "    return cmWriter.render(ast)\n",
    "}"
   ]
  },
  {
   "cell_type": "markdown",
   "metadata": {},
   "source": [
    "#### Step 4.2: Setting up the HTML Template Engine"
   ]
  },
  {
   "cell_type": "code",
   "execution_count": 4,
   "metadata": {},
   "outputs": [],
   "source": [
    "const pug = require('pug')"
   ]
  },
  {
   "cell_type": "markdown",
   "metadata": {},
   "source": [
    "#### Step 4.3: Setting up the Date Formatter"
   ]
  },
  {
   "cell_type": "code",
   "execution_count": 5,
   "metadata": {},
   "outputs": [],
   "source": [
    "const moment = require('moment')\n",
    "\n",
    "const dateAsYMD = (date) => {\n",
    "    moment(date).format('YYYY-MM-DD')\n",
    "}"
   ]
  },
  {
   "cell_type": "markdown",
   "metadata": {},
   "source": [
    "#### Step 4.4: Displaying the result"
   ]
  },
  {
   "cell_type": "code",
   "execution_count": 6,
   "metadata": {},
   "outputs": [
    {
     "data": {
      "text/html": [
       "<!DOCTYPE html><html><body><div class=\"person\"><img src=\"https://images.ctfassets.net/97g0w6chleyq/2m47RWoQJGYUq0UG666Ui8/0483848ddb10fbdb309c39024d8b21e0/N.Gogol_by_F.Moller__28early_1840s_2C_Ivanovo_29_detail.jpg?w=80\" alt=\"John Doe\"><h2>John Doe</h2><p><small>Born on <i></i></small></p><h3>Bio:</h3><div class=\"bio\"><p>John is a creative mind, he likes showing off his crazy new designs from his atellier.</p>\n",
       "<p>You can see more of his work at <a href=\"https://creativejohns.com\">CreativeJohn's</a>.</p>\n",
       "<p>Or follow him at <a href=\"https://twitter.com/creativejohn\">@creativejohn</a>.</p>\n",
       "</div></div></body></html>"
      ]
     },
     "execution_count": 6,
     "metadata": {},
     "output_type": "execute_result"
    }
   ],
   "source": [
    "var html = `\n",
    "doctype html\n",
    "html\n",
    "  body\n",
    "    .person\n",
    "      - var url = \"https:\" + person.fields.headshot.fields.file.url + \"?w=80\"\n",
    "      img(src=url alt=person.fields.name)\n",
    "      h2= person.fields.name\n",
    "      p\n",
    "        small\n",
    "          = \"Born on \"\n",
    "          i= dateAsYMD(person.fields.dateOfBirth)\n",
    "\n",
    "      h3=\"Bio:\"\n",
    "      .bio !{markdown(person.fields.bio)}\n",
    "`\n",
    "$$.html(\n",
    "    pug.render(html, {\n",
    "        person: john,\n",
    "        dateAsYMD: dateAsYMD,\n",
    "        markdown: markdown\n",
    "    })\n",
    ")"
   ]
  },
  {
   "cell_type": "markdown",
   "metadata": {},
   "source": [
    "Now that we saw how to create a simple HTML frontend, let's take a look at a few other options.\n",
    "\n",
    "We'll now use a collection of entries that contain some data points of a scatterplot that Mr. Doe was using for creating some math based artworks.\n",
    "\n",
    "### Step 5: Fetch a collection of entries with a specific content type"
   ]
  },
  {
   "cell_type": "code",
   "execution_count": 7,
   "metadata": {},
   "outputs": [
    {
     "data": {
      "text/plain": [
       "[ { sys: \n",
       "     { space: [Object],\n",
       "       id: '5zU2davBeMqqYa04CIu8E',\n",
       "       type: 'Entry',\n",
       "       createdAt: '2018-02-23T14:24:36.641Z',\n",
       "       updatedAt: '2018-02-23T15:04:53.225Z',\n",
       "       environment: [Object],\n",
       "       revision: 2,\n",
       "       contentType: [Object],\n",
       "       locale: 'en-US' },\n",
       "    fields: { reference: 'infinity', x: 5, y: 5 } },\n",
       "  { sys: \n",
       "     { space: [Object],\n",
       "       id: '44tTj7LuLKYAqSgUAKSqey',\n",
       "       type: 'Entry',\n",
       "       createdAt: '2018-02-23T14:42:10.220Z',\n",
       "       updatedAt: '2018-02-23T14:42:10.220Z',\n",
       "       environment: [Object],\n",
       "       revision: 1,\n",
       "       contentType: [Object],\n",
       "       locale: 'en-US' },\n",
       "    fields: { reference: 'smiley', x: 8, y: 3 } },\n",
       "  { sys: \n",
       "     { space: [Object],\n",
       "       id: '1fpxk9FYSIK4a8mMu2Y2MY',\n",
       "       type: 'Entry',\n",
       "       createdAt: '2018-02-23T14:25:56.982Z',\n",
       "       updatedAt: '2018-02-23T15:04:23.481Z',\n",
       "       environment: [Object],\n",
       "       revision: 2,\n",
       "       contentType: [Object],\n",
       "       locale: 'en-US' },\n",
       "    fields: { reference: 'infinity', x: 8, y: 6 } },\n",
       "  { sys: \n",
       "     { space: [Object],\n",
       "       id: 'jZxx0ALWiOWMQG8wIq4OA',\n",
       "       type: 'Entry',\n",
       "       createdAt: '2018-02-23T14:24:09.693Z',\n",
       "       updatedAt: '2018-02-23T15:05:04.925Z',\n",
       "       environment: [Object],\n",
       "       revision: 2,\n",
       "       contentType: [Object],\n",
       "       locale: 'en-US' },\n",
       "    fields: { reference: 'infinity', x: 4, y: 6 } },\n",
       "  { sys: \n",
       "     { space: [Object],\n",
       "       id: '3LpAaUkjJYACoGu6UOym6k',\n",
       "       type: 'Entry',\n",
       "       createdAt: '2018-02-23T14:40:52.329Z',\n",
       "       updatedAt: '2018-02-23T14:44:54.063Z',\n",
       "       environment: [Object],\n",
       "       revision: 2,\n",
       "       contentType: [Object],\n",
       "       locale: 'en-US' },\n",
       "    fields: { reference: 'smiley', x: 3, y: 7 } },\n",
       "  { sys: \n",
       "     { space: [Object],\n",
       "       id: '6iPidY1pdeGMiwgUkEc4Uu',\n",
       "       type: 'Entry',\n",
       "       createdAt: '2018-02-23T14:24:20.880Z',\n",
       "       updatedAt: '2018-02-23T15:04:59.979Z',\n",
       "       environment: [Object],\n",
       "       revision: 2,\n",
       "       contentType: [Object],\n",
       "       locale: 'en-US' },\n",
       "    fields: { reference: 'infinity', x: 4, y: 4 } },\n",
       "  { sys: \n",
       "     { space: [Object],\n",
       "       id: '4NJAvkFETmUuaagwyIae6S',\n",
       "       type: 'Entry',\n",
       "       createdAt: '2018-02-23T14:41:24.211Z',\n",
       "       updatedAt: '2018-02-23T14:41:24.211Z',\n",
       "       environment: [Object],\n",
       "       revision: 1,\n",
       "       contentType: [Object],\n",
       "       locale: 'en-US' },\n",
       "    fields: { reference: 'smiley', x: 5, y: 0.5 } },\n",
       "  { sys: \n",
       "     { space: [Object],\n",
       "       id: '53utOxUPj2Ggkq0wse20CO',\n",
       "       type: 'Entry',\n",
       "       createdAt: '2018-02-23T14:24:51.344Z',\n",
       "       updatedAt: '2018-02-23T15:04:41.157Z',\n",
       "       environment: [Object],\n",
       "       revision: 2,\n",
       "       contentType: [Object],\n",
       "       locale: 'en-US' },\n",
       "    fields: { reference: 'infinity', x: 6, y: 6 } },\n",
       "  { sys: \n",
       "     { space: [Object],\n",
       "       id: '3Sw4CV7EZOyU6ow2U8IMAu',\n",
       "       type: 'Entry',\n",
       "       createdAt: '2018-02-23T14:40:14.156Z',\n",
       "       updatedAt: '2018-02-23T14:40:14.156Z',\n",
       "       environment: [Object],\n",
       "       revision: 1,\n",
       "       contentType: [Object],\n",
       "       locale: 'en-US' },\n",
       "    fields: { reference: 'smiley', x: 2, y: 3 } },\n",
       "  { sys: \n",
       "     { space: [Object],\n",
       "       id: '1d80DpIRPWK4YsYGa8EIIa',\n",
       "       type: 'Entry',\n",
       "       createdAt: '2018-02-23T14:41:38.726Z',\n",
       "       updatedAt: '2018-02-23T14:41:38.726Z',\n",
       "       environment: [Object],\n",
       "       revision: 1,\n",
       "       contentType: [Object],\n",
       "       locale: 'en-US' },\n",
       "    fields: { reference: 'smiley', x: 7, y: 2 } },\n",
       "  { sys: \n",
       "     { space: [Object],\n",
       "       id: '1fUMzLVVi8ws2qsW0iEaEy',\n",
       "       type: 'Entry',\n",
       "       createdAt: '2018-02-23T14:40:27.215Z',\n",
       "       updatedAt: '2018-02-23T14:40:27.215Z',\n",
       "       environment: [Object],\n",
       "       revision: 1,\n",
       "       contentType: [Object],\n",
       "       locale: 'en-US' },\n",
       "    fields: { reference: 'smiley', x: 3, y: 2 } },\n",
       "  { sys: \n",
       "     { space: [Object],\n",
       "       id: '1U9kLW0R9KuKWSQqig2wcO',\n",
       "       type: 'Entry',\n",
       "       createdAt: '2018-02-23T14:40:39.606Z',\n",
       "       updatedAt: '2018-02-23T14:43:58.745Z',\n",
       "       environment: [Object],\n",
       "       revision: 2,\n",
       "       contentType: [Object],\n",
       "       locale: 'en-US' },\n",
       "    fields: { reference: 'smiley', x: 3, y: 5 } },\n",
       "  { sys: \n",
       "     { space: [Object],\n",
       "       id: '1grcK8KBjYO0GIsackCIOI',\n",
       "       type: 'Entry',\n",
       "       createdAt: '2018-02-23T14:41:31.794Z',\n",
       "       updatedAt: '2018-02-23T14:41:31.794Z',\n",
       "       environment: [Object],\n",
       "       revision: 1,\n",
       "       contentType: [Object],\n",
       "       locale: 'en-US' },\n",
       "    fields: { reference: 'smiley', x: 6, y: 1 } },\n",
       "  { sys: \n",
       "     { space: [Object],\n",
       "       id: '3kgF9ryQPug6aAiOSCCYo0',\n",
       "       type: 'Entry',\n",
       "       createdAt: '2018-02-23T14:25:06.421Z',\n",
       "       updatedAt: '2018-02-23T15:04:09.109Z',\n",
       "       environment: [Object],\n",
       "       revision: 2,\n",
       "       contentType: [Object],\n",
       "       locale: 'en-US' },\n",
       "    fields: { reference: 'infinity', x: 7, y: 3.5 } },\n",
       "  { sys: \n",
       "     { space: [Object],\n",
       "       id: '1I9tw3GeIEia6IKgyK0CGW',\n",
       "       type: 'Entry',\n",
       "       createdAt: '2018-02-23T14:24:44.354Z',\n",
       "       updatedAt: '2018-02-23T15:04:46.879Z',\n",
       "       environment: [Object],\n",
       "       revision: 2,\n",
       "       contentType: [Object],\n",
       "       locale: 'en-US' },\n",
       "    fields: { reference: 'infinity', x: 6, y: 4 } },\n",
       "  { sys: \n",
       "     { space: [Object],\n",
       "       id: '1P4HPORpA0Cea2S20ws0gI',\n",
       "       type: 'Entry',\n",
       "       createdAt: '2018-02-23T14:41:46.159Z',\n",
       "       updatedAt: '2018-02-23T14:41:46.159Z',\n",
       "       environment: [Object],\n",
       "       revision: 1,\n",
       "       contentType: [Object],\n",
       "       locale: 'en-US' },\n",
       "    fields: { reference: 'smiley', x: 7, y: 5 } },\n",
       "  { sys: \n",
       "     { space: [Object],\n",
       "       id: '4NNmRcgwbCuC4SwQsq06y',\n",
       "       type: 'Entry',\n",
       "       createdAt: '2018-02-23T14:25:00.128Z',\n",
       "       updatedAt: '2018-02-23T15:04:35.401Z',\n",
       "       environment: [Object],\n",
       "       revision: 2,\n",
       "       contentType: [Object],\n",
       "       locale: 'en-US' },\n",
       "    fields: { reference: 'infinity', x: 7, y: 6.5 } },\n",
       "  { sys: \n",
       "     { space: [Object],\n",
       "       id: '40cCVc3GLCOiQgsmk0W8mA',\n",
       "       type: 'Entry',\n",
       "       createdAt: '2018-02-23T14:40:44.205Z',\n",
       "       updatedAt: '2018-02-23T14:44:13.699Z',\n",
       "       environment: [Object],\n",
       "       revision: 2,\n",
       "       contentType: [Object],\n",
       "       locale: 'en-US' },\n",
       "    fields: { reference: 'smiley', x: 3, y: 6 } },\n",
       "  { sys: \n",
       "     { space: [Object],\n",
       "       id: 'r9191PxMekwouQKYYWwY8',\n",
       "       type: 'Entry',\n",
       "       createdAt: '2018-02-23T14:41:55.565Z',\n",
       "       updatedAt: '2018-02-23T14:41:55.565Z',\n",
       "       environment: [Object],\n",
       "       revision: 1,\n",
       "       contentType: [Object],\n",
       "       locale: 'en-US' },\n",
       "    fields: { reference: 'smiley', x: 7, y: 7 } },\n",
       "  { sys: \n",
       "     { space: [Object],\n",
       "       id: '2tGyA86hscecCqqCsMeUWu',\n",
       "       type: 'Entry',\n",
       "       createdAt: '2018-02-23T14:26:05.439Z',\n",
       "       updatedAt: '2018-02-23T15:04:16.527Z',\n",
       "       environment: [Object],\n",
       "       revision: 2,\n",
       "       contentType: [Object],\n",
       "       locale: 'en-US' },\n",
       "    fields: { reference: 'infinity', x: 8.5, y: 5 } },\n",
       "  { sys: \n",
       "     { space: [Object],\n",
       "       id: '5G3zvBjzq0uCACUWekaiyW',\n",
       "       type: 'Entry',\n",
       "       createdAt: '2018-02-23T14:25:33.127Z',\n",
       "       updatedAt: '2018-02-23T15:04:29.688Z',\n",
       "       environment: [Object],\n",
       "       revision: 2,\n",
       "       contentType: [Object],\n",
       "       locale: 'en-US' },\n",
       "    fields: { reference: 'infinity', x: 8, y: 4 } },\n",
       "  { sys: \n",
       "     { space: [Object],\n",
       "       id: '6jt9hVSnxmuOmQgGckKAkg',\n",
       "       type: 'Entry',\n",
       "       createdAt: '2018-02-23T14:41:50.869Z',\n",
       "       updatedAt: '2018-02-23T14:41:50.869Z',\n",
       "       environment: [Object],\n",
       "       revision: 1,\n",
       "       contentType: [Object],\n",
       "       locale: 'en-US' },\n",
       "    fields: { reference: 'smiley', x: 7, y: 6 } },\n",
       "  { sys: \n",
       "     { space: [Object],\n",
       "       id: '5Lz6MkKomcEWe6WY8m6eCs',\n",
       "       type: 'Entry',\n",
       "       createdAt: '2018-02-23T14:23:22.839Z',\n",
       "       updatedAt: '2018-02-23T15:05:27.261Z',\n",
       "       environment: [Object],\n",
       "       revision: 2,\n",
       "       contentType: [Object],\n",
       "       locale: 'en-US' },\n",
       "    fields: { reference: 'infinity', x: 2, y: 4 } },\n",
       "  { sys: \n",
       "     { space: [Object],\n",
       "       id: '7iCTWxWAMwwys00s8cce68',\n",
       "       type: 'Entry',\n",
       "       createdAt: '2018-02-23T14:23:40.850Z',\n",
       "       updatedAt: '2018-02-23T15:05:16.218Z',\n",
       "       environment: [Object],\n",
       "       revision: 2,\n",
       "       contentType: [Object],\n",
       "       locale: 'en-US' },\n",
       "    fields: { reference: 'infinity', x: 3, y: 6.5 } },\n",
       "  { sys: \n",
       "     { space: [Object],\n",
       "       id: '34eBSmrbwAMiEG0AUqYQOS',\n",
       "       type: 'Entry',\n",
       "       createdAt: '2018-02-23T14:23:47.651Z',\n",
       "       updatedAt: '2018-02-23T15:05:10.287Z',\n",
       "       environment: [Object],\n",
       "       revision: 2,\n",
       "       contentType: [Object],\n",
       "       locale: 'en-US' },\n",
       "    fields: { reference: 'infinity', x: 3, y: 3.5 } },\n",
       "  { sys: \n",
       "     { space: [Object],\n",
       "       id: '4nZfbEDgdyqscosSkE4yKq',\n",
       "       type: 'Entry',\n",
       "       createdAt: '2018-02-23T14:41:15.984Z',\n",
       "       updatedAt: '2018-02-23T14:41:15.984Z',\n",
       "       environment: [Object],\n",
       "       revision: 1,\n",
       "       contentType: [Object],\n",
       "       locale: 'en-US' },\n",
       "    fields: { reference: 'smiley', x: 4, y: 1 } },\n",
       "  { sys: \n",
       "     { space: [Object],\n",
       "       id: 'COuTnOOJ5AAyEyI0sguc',\n",
       "       type: 'Entry',\n",
       "       createdAt: '2018-02-23T14:22:57.495Z',\n",
       "       updatedAt: '2018-02-23T15:05:32.477Z',\n",
       "       environment: [Object],\n",
       "       revision: 2,\n",
       "       contentType: [Object],\n",
       "       locale: 'en-US' },\n",
       "    fields: { reference: 'infinity', x: 1.5, y: 5 } },\n",
       "  { sys: \n",
       "     { space: [Object],\n",
       "       id: '3cx1ObyaDYGMuSqaCCWGus',\n",
       "       type: 'Entry',\n",
       "       createdAt: '2018-02-23T14:23:29.824Z',\n",
       "       updatedAt: '2018-02-23T15:05:21.419Z',\n",
       "       environment: [Object],\n",
       "       revision: 2,\n",
       "       contentType: [Object],\n",
       "       locale: 'en-US' },\n",
       "    fields: { reference: 'infinity', x: 2, y: 6 } } ]"
      ]
     },
     "execution_count": 7,
     "metadata": {},
     "output_type": "execute_result"
    }
   ],
   "source": [
    "var scatterData\n",
    "client.getEntries({\n",
    "    content_type: 'scatterData'\n",
    "}).then((entries) => scatterData = entries.items).catch((err) => console.log(err))"
   ]
  },
  {
   "cell_type": "markdown",
   "metadata": {},
   "source": [
    "### Step 6: Use Google Charts to render scatter plot\n",
    "\n",
    "Using [Google Charts](https://developers.google.com/chart/image) we're going to create a scatter plot from the data obtained in the previous step. And that way, reproduce some of the art, that Mr. Doe has brought to this world.\n",
    "\n",
    "> Google Image Charts is deprecated, and no longer supported, but there are currently no plans of removing the project. Therefore, because of how easy it is to work with it, we're going to use it."
   ]
  },
  {
   "cell_type": "markdown",
   "metadata": {},
   "source": [
    "#### Step 6.1: Setting up the Chart creation steps"
   ]
  },
  {
   "cell_type": "code",
   "execution_count": 8,
   "metadata": {},
   "outputs": [],
   "source": [
    "const _ = require('lodash')\n",
    "const axios = require('axios')\n",
    "\n",
    "const xyNodeFromEntry = (entry) => {\n",
    "    return {x: entry.fields.x, y: entry.fields.y}\n",
    "}\n",
    "\n",
    "const xyNodes = (entries) => {\n",
    "    return _.map(entries, (entry) => {\n",
    "        return xyNodeFromEntry(entry)\n",
    "    })\n",
    "}\n",
    "\n",
    "const createScatterChart = (xs, ys, title) => {\n",
    "    const minX = _.min(xs)\n",
    "    const maxX = _.max(xs)\n",
    "    const minY = _.min(ys)\n",
    "    const maxY = _.max(ys)\n",
    "    \n",
    "    const chartsAPIBaseURL = 'https://chart.googleapis.com/chart?'\n",
    "    \n",
    "    const scatterChartType = 'cht=s'\n",
    "    const scatterChartData = `&chd=t:${_.join(xs)}|${_.join(ys)}`\n",
    "    const scatterChartAxisVisibility = '&chxt=x,y'\n",
    "    const scatterChartBoundaries = `&chxr=0,${minX - 10},${maxX + 10}|2,${minY - 10},${maxY + 10}`\n",
    "    const scatterChartTitle = title ? `&chtt=${title}` : ''\n",
    "    const scatterChartFileType = '&chof=png'\n",
    "    const scatterChartMargin = '&chma=20,20,20,20'\n",
    "    const scatterChartSize = '&chs=640x300'\n",
    "    \n",
    "    const chartUrl = _.join([\n",
    "        chartsAPIBaseURL,\n",
    "        scatterChartType,\n",
    "        scatterChartData,\n",
    "        scatterChartAxisVisibility,\n",
    "        scatterChartBoundaries,\n",
    "        scatterChartTitle,\n",
    "        scatterChartFileType,\n",
    "        scatterChartSize\n",
    "    ], '')\n",
    "    \n",
    "    return chartUrl\n",
    "}"
   ]
  },
  {
   "cell_type": "code",
   "execution_count": 9,
   "metadata": {},
   "outputs": [
    {
     "data": {
      "text/html": [
       "<img src=\"https://chart.googleapis.com/chart?cht=s&amp;chd=t:50,80,80,40,30,40,50,60,20,70,30,30,60,70,60,70,70,30,70,85,80,70,20,30,30,40,15,20|50,30,60,60,70,40,5,60,30,20,20,50,10,35,40,50,65,60,70,50,40,60,40,65,35,10,50,60&amp;chxt=x,y&amp;chxr=0,5,95|2,-5,80&amp;chof=png&amp;chs=640x300\"/>"
      ]
     },
     "execution_count": 9,
     "metadata": {},
     "output_type": "execute_result"
    }
   ],
   "source": [
    "var nodes = xyNodes(scatterData)\n",
    "var xs = _.map(nodes, (node) => { return node.x * 10}) // We scale it times 10 due to gcharts not liking small charts\n",
    "var ys = _.map(nodes, (node) => { return node.y * 10})\n",
    "    \n",
    "\n",
    "$$.html(pug.render(`img(src=url)`, {url: createScatterChart(xs, ys)}))"
   ]
  },
  {
   "cell_type": "markdown",
   "metadata": {},
   "source": [
    "Now we have a plot! ... kind of... It doesn't really look like much.\n",
    "\n",
    "A friend of us, who really loves Doe's art, is telling me that the result we got above, is actually the superposition of two of his math works.\n",
    "\n",
    "### Step 7: Understanding the result set"
   ]
  },
  {
   "cell_type": "code",
   "execution_count": 10,
   "metadata": {},
   "outputs": [
    {
     "data": {
      "text/plain": [
       "{ infinity: \n",
       "   { xs: [ 50, 80, 40, 40, 60, 70, 60, 70, 85, 80, 20, 30, 30, 15, 20 ],\n",
       "     ys: [ 50, 60, 60, 40, 60, 35, 40, 65, 50, 40, 40, 65, 35, 50, 60 ] },\n",
       "  smiley: \n",
       "   { xs: [ 80, 30, 50, 20, 70, 30, 30, 60, 70, 30, 70, 70, 40 ],\n",
       "     ys: [ 30, 70, 5, 30, 20, 20, 50, 10, 50, 60, 70, 60, 10 ] } }"
      ]
     },
     "execution_count": 10,
     "metadata": {},
     "output_type": "execute_result"
    }
   ],
   "source": [
    "var artworks = {}\n",
    "_.each(scatterData, (data) => {\n",
    "    if (!(data.fields.reference in artworks)) {\n",
    "        artworks[data.fields.reference] = {xs: [], ys: []}\n",
    "    }\n",
    "    artworks[data.fields.reference].xs.push(data.fields.x * 10)\n",
    "    artworks[data.fields.reference].ys.push(data.fields.y * 10)\n",
    "})\n",
    "artworks"
   ]
  },
  {
   "cell_type": "markdown",
   "metadata": {},
   "source": [
    "Now we have the artworks separated by it's reference title, let's see what they look like when we separate them."
   ]
  },
  {
   "cell_type": "code",
   "execution_count": 11,
   "metadata": {},
   "outputs": [
    {
     "data": {
      "text/html": [
       "<img src=\"https://chart.googleapis.com/chart?cht=s&amp;chd=t:50,80,40,40,60,70,60,70,85,80,20,30,30,15,20|50,60,60,40,60,35,40,65,50,40,40,65,35,50,60&amp;chxt=x,y&amp;chxr=0,5,95|2,25,75&amp;chtt=infinity&amp;chof=png&amp;chs=640x300\"/><img src=\"https://chart.googleapis.com/chart?cht=s&amp;chd=t:80,30,50,20,70,30,30,60,70,30,70,70,40|30,70,5,30,20,20,50,10,50,60,70,60,10&amp;chxt=x,y&amp;chxr=0,10,90|2,-5,80&amp;chtt=smiley&amp;chof=png&amp;chs=640x300\"/>"
      ]
     },
     "execution_count": 11,
     "metadata": {},
     "output_type": "execute_result"
    }
   ],
   "source": [
    "$$.html(\n",
    "    _.map(artworks, (data, reference) => {\n",
    "        return pug.render(`img(src=url)`, {url: createScatterChart(data.xs, data.ys, reference)})\n",
    "    }).join('')\n",
    ")"
   ]
  },
  {
   "cell_type": "markdown",
   "metadata": {},
   "source": [
    "### Done! 🎉🎊👏\n",
    "Now we've discovered Mr. Doe's artworks! And in the process understand a bit more of the flexibility and power that Contentful provides.\n",
    "\n",
    "### What's next?\n",
    "You may have noticed that we could have probably avoided having superposed artworks.\n",
    "\n",
    "Can you figure out how? I'll give you a few options that you can later explore on your own.\n",
    "\n",
    "* Use search filters from our [Search API](https://www.contentful.com/developers/docs/references/content-delivery-api/#/reference/search-parameters)\n",
    "* Create an \"Artwork\" content type that contains a reference to all points in our artwork, then we can fetch the given artwork (or all of them), and avoid having to do any manual mapping.\n",
    "\n",
    "We're looking forward to hearing about other interesting solutions you've found! And of course we'd love to see what you can do with Contentful.\n",
    "\n",
    "Also, if you like to learn more about the available Contentful tools and tutorials in Python, you can read more [here](https://www.contentful.com/developers/docs/python/).\n",
    "\n",
    "Please feel free to provide us with feedback and contribute to our [repositories](https://github.com/contentful)"
   ]
  },
  {
   "cell_type": "code",
   "execution_count": null,
   "metadata": {},
   "outputs": [],
   "source": []
  }
 ],
 "metadata": {
  "kernelspec": {
   "display_name": "Javascript (Node.js)",
   "language": "javascript",
   "name": "javascript"
  },
  "language_info": {
   "file_extension": ".js",
   "mimetype": "application/javascript",
   "name": "javascript",
   "version": "8.9.1"
  },
  "toc": {
   "nav_menu": {},
   "number_sections": true,
   "sideBar": true,
   "skip_h1_title": false,
   "title_cell": "Table of Contents",
   "title_sidebar": "Contents",
   "toc_cell": false,
   "toc_position": {},
   "toc_section_display": true,
   "toc_window_display": false
  },
  "varInspector": {
   "cols": {
    "lenName": 16,
    "lenType": 16,
    "lenVar": 40
   },
   "kernels_config": {
    "python": {
     "delete_cmd_postfix": "",
     "delete_cmd_prefix": "del ",
     "library": "var_list.py",
     "varRefreshCmd": "print(var_dic_list())"
    },
    "r": {
     "delete_cmd_postfix": ") ",
     "delete_cmd_prefix": "rm(",
     "library": "var_list.r",
     "varRefreshCmd": "cat(var_dic_list()) "
    }
   },
   "types_to_exclude": [
    "module",
    "function",
    "builtin_function_or_method",
    "instance",
    "_Feature"
   ],
   "window_display": false
  }
 },
 "nbformat": 4,
 "nbformat_minor": 2
}
